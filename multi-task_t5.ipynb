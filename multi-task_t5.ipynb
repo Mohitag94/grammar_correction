{
 "cells": [
  {
   "cell_type": "markdown",
   "id": "f7ed6398",
   "metadata": {},
   "source": [
    "#### **7PAM2015-0509-2024 -- Research Methods in Data Science**\n",
    "##### Mult-Task -- Grammar Correctiona and Paraphrasing -- Implementation on T5 through LoRA.\n",
    "---\n",
    "**Mohit Agarwal (Student ID-22031257)**\n",
    "\n",
    "This notebook trains and evaluate the model.\n",
    "\n",
    "\n",
    "##### T5"
   ]
  },
  {
   "cell_type": "markdown",
   "id": "70186f37",
   "metadata": {},
   "source": [
    "Importing Required Libraries"
   ]
  },
  {
   "cell_type": "code",
   "execution_count": 3,
   "id": "af17f211",
   "metadata": {},
   "outputs": [],
   "source": [
    "# importing required libraries\n",
    "import logging\n",
    "import matplotlib.pyplot as plt\n",
    "import seaborn as sns\n",
    "\n",
    "# Core T5 training libraries\n",
    "from transformers import (\n",
    "    T5Tokenizer, T5ForConditionalGeneration,\n",
    "    TrainingArguments, Trainer, DataCollatorForSeq2Seq,\n",
    "    EarlyStoppingCallback, get_linear_schedule_with_warmup\n",
    ")"
   ]
  },
  {
   "cell_type": "markdown",
   "id": "84ebeb50",
   "metadata": {},
   "source": [
    "Changing the default styles and palettes"
   ]
  },
  {
   "cell_type": "code",
   "execution_count": 4,
   "id": "82506b9e",
   "metadata": {},
   "outputs": [],
   "source": [
    "# setting style\n",
    "sns.set_style(\"darkgrid\")\n",
    "# setting context\n",
    "sns.set_context(\"paper\")\n",
    "# setting palette\n",
    "sns.set_palette(\"deep\", color_codes=True)"
   ]
  },
  {
   "cell_type": "markdown",
   "id": "0d5d6134",
   "metadata": {},
   "source": [
    "### A Class for "
   ]
  },
  {
   "cell_type": "code",
   "execution_count": null,
   "id": "ec8c231c",
   "metadata": {},
   "outputs": [],
   "source": []
  }
 ],
 "metadata": {
  "kernelspec": {
   "display_name": "llm_venv",
   "language": "python",
   "name": "python3"
  },
  "language_info": {
   "codemirror_mode": {
    "name": "ipython",
    "version": 3
   },
   "file_extension": ".py",
   "mimetype": "text/x-python",
   "name": "python",
   "nbconvert_exporter": "python",
   "pygments_lexer": "ipython3",
   "version": "3.13.4"
  }
 },
 "nbformat": 4,
 "nbformat_minor": 5
}
